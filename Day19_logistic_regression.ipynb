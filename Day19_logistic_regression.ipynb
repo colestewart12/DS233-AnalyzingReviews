{
 "cells": [
  {
   "cell_type": "markdown",
   "metadata": {},
   "source": [
    "## Logistic Regression example\n",
    "Let's explore implementation of Logistic regression!"
   ]
  },
  {
   "cell_type": "code",
   "execution_count": 84,
   "metadata": {},
   "outputs": [
    {
     "name": "stdout",
     "output_type": "stream",
     "text": [
      "[[1.0, 0.7, 48000], [1.0, 1.9, 48000], [1.0, 2.5, 60000], [1.0, 4.2, 63000], [1.0, 6, 76000], [1.0, 6.5, 69000], [1.0, 7.5, 76000], [1.0, 8.1, 88000], [1.0, 8.7, 83000], [1.0, 10, 83000], [1.0, 0.8, 43000], [1.0, 1.8, 60000], [1.0, 10, 79000], [1.0, 6.1, 76000], [1.0, 1.4, 50000], [1.0, 9.1, 92000], [1.0, 5.8, 75000], [1.0, 5.2, 69000], [1.0, 1, 56000], [1.0, 6, 67000], [1.0, 4.9, 74000], [1.0, 6.4, 63000], [1.0, 6.2, 82000], [1.0, 3.3, 58000], [1.0, 9.3, 90000], [1.0, 5.5, 57000], [1.0, 9.1, 102000], [1.0, 2.4, 54000], [1.0, 8.2, 65000], [1.0, 5.3, 82000], [1.0, 9.8, 107000], [1.0, 1.8, 64000], [1.0, 0.6, 46000], [1.0, 0.8, 48000], [1.0, 8.6, 84000], [1.0, 0.6, 45000], [1.0, 0.5, 30000], [1.0, 7.3, 89000], [1.0, 2.5, 48000], [1.0, 5.6, 76000], [1.0, 7.4, 77000], [1.0, 2.7, 56000], [1.0, 0.7, 48000], [1.0, 1.2, 42000], [1.0, 0.2, 32000], [1.0, 4.7, 56000], [1.0, 2.8, 44000], [1.0, 7.6, 78000], [1.0, 1.1, 63000], [1.0, 8, 79000], [1.0, 2.7, 56000], [1.0, 6, 52000], [1.0, 4.6, 56000], [1.0, 2.5, 51000], [1.0, 5.7, 71000], [1.0, 2.9, 65000], [1.0, 1.1, 33000], [1.0, 3, 62000], [1.0, 4, 71000], [1.0, 2.4, 61000], [1.0, 7.5, 75000], [1.0, 9.7, 81000], [1.0, 3.2, 62000], [1.0, 7.9, 88000], [1.0, 4.7, 44000], [1.0, 2.5, 55000], [1.0, 1.6, 41000], [1.0, 6.7, 64000], [1.0, 6.9, 66000], [1.0, 7.9, 78000], [1.0, 8.1, 102000], [1.0, 5.3, 48000], [1.0, 8.5, 66000], [1.0, 0.2, 56000], [1.0, 6, 69000], [1.0, 7.5, 77000], [1.0, 8, 86000], [1.0, 4.4, 68000], [1.0, 4.9, 75000], [1.0, 1.5, 60000], [1.0, 2.2, 50000], [1.0, 3.4, 49000], [1.0, 4.2, 70000], [1.0, 7.7, 98000], [1.0, 8.2, 85000], [1.0, 5.4, 88000], [1.0, 0.1, 46000], [1.0, 1.5, 37000], [1.0, 6.3, 86000], [1.0, 3.7, 57000], [1.0, 8.4, 85000], [1.0, 2, 42000], [1.0, 5.8, 69000], [1.0, 2.7, 64000], [1.0, 3.1, 63000], [1.0, 1.9, 48000], [1.0, 10, 72000], [1.0, 0.2, 45000], [1.0, 8.6, 95000], [1.0, 1.5, 64000], [1.0, 9.8, 95000], [1.0, 5.3, 65000], [1.0, 7.5, 80000], [1.0, 9.9, 91000], [1.0, 9.7, 50000], [1.0, 2.8, 68000], [1.0, 3.6, 58000], [1.0, 3.9, 74000], [1.0, 4.4, 76000], [1.0, 2.5, 49000], [1.0, 7.2, 81000], [1.0, 5.2, 60000], [1.0, 2.4, 62000], [1.0, 8.9, 94000], [1.0, 2.4, 63000], [1.0, 6.8, 69000], [1.0, 6.5, 77000], [1.0, 7, 86000], [1.0, 9.4, 94000], [1.0, 7.8, 72000], [1.0, 0.2, 53000], [1.0, 10, 97000], [1.0, 5.5, 65000], [1.0, 7.7, 71000], [1.0, 8.1, 66000], [1.0, 9.8, 91000], [1.0, 8, 84000], [1.0, 2.7, 55000], [1.0, 2.8, 62000], [1.0, 9.4, 79000], [1.0, 2.5, 57000], [1.0, 7.4, 70000], [1.0, 2.1, 47000], [1.0, 5.3, 62000], [1.0, 6.3, 79000], [1.0, 6.8, 58000], [1.0, 5.7, 80000], [1.0, 2.2, 61000], [1.0, 4.8, 62000], [1.0, 3.7, 64000], [1.0, 4.1, 85000], [1.0, 2.3, 51000], [1.0, 3.5, 58000], [1.0, 0.9, 43000], [1.0, 0.9, 54000], [1.0, 4.5, 74000], [1.0, 6.5, 55000], [1.0, 4.1, 41000], [1.0, 7.1, 73000], [1.0, 1.1, 66000], [1.0, 9.1, 81000], [1.0, 8, 69000], [1.0, 7.3, 72000], [1.0, 3.3, 50000], [1.0, 3.9, 58000], [1.0, 2.6, 49000], [1.0, 1.6, 78000], [1.0, 0.7, 56000], [1.0, 2.1, 36000], [1.0, 7.5, 90000], [1.0, 4.8, 59000], [1.0, 8.9, 95000], [1.0, 6.2, 72000], [1.0, 6.3, 63000], [1.0, 9.1, 100000], [1.0, 7.3, 61000], [1.0, 5.6, 74000], [1.0, 0.5, 66000], [1.0, 1.1, 59000], [1.0, 5.1, 61000], [1.0, 6.2, 70000], [1.0, 6.6, 56000], [1.0, 6.3, 76000], [1.0, 6.5, 78000], [1.0, 5.1, 59000], [1.0, 9.5, 74000], [1.0, 4.5, 64000], [1.0, 2, 54000], [1.0, 1, 52000], [1.0, 4, 69000], [1.0, 6.5, 76000], [1.0, 3, 60000], [1.0, 4.5, 63000], [1.0, 7.8, 70000], [1.0, 3.9, 60000], [1.0, 0.8, 51000], [1.0, 4.2, 78000], [1.0, 1.1, 54000], [1.0, 6.2, 60000], [1.0, 2.9, 59000], [1.0, 2.1, 52000], [1.0, 8.2, 87000], [1.0, 4.8, 73000], [1.0, 2.2, 42000], [1.0, 9.1, 98000], [1.0, 6.5, 84000], [1.0, 6.9, 73000], [1.0, 5.1, 72000], [1.0, 9.1, 69000], [1.0, 9.8, 79000]]\n"
     ]
    }
   ],
   "source": [
    "\"\"\"\n",
    "Example data: list of rows [experience, salary, paid_account]\n",
    "\"\"\"\n",
    "tuples = [(0.7,48000,1),(1.9,48000,0),(2.5,60000,1),(4.2,63000,0),(6,76000,0),(6.5,69000,0),(7.5,76000,0),(8.1,88000,0),(8.7,83000,1),(10,83000,1),(0.8,43000,0),(1.8,60000,0),(10,79000,1),(6.1,76000,0),(1.4,50000,0),(9.1,92000,0),(5.8,75000,0),(5.2,69000,0),(1,56000,0),(6,67000,0),(4.9,74000,0),(6.4,63000,1),(6.2,82000,0),(3.3,58000,0),(9.3,90000,1),(5.5,57000,1),(9.1,102000,0),(2.4,54000,0),(8.2,65000,1),(5.3,82000,0),(9.8,107000,0),(1.8,64000,0),(0.6,46000,1),(0.8,48000,0),(8.6,84000,1),(0.6,45000,0),(0.5,30000,1),(7.3,89000,0),(2.5,48000,1),(5.6,76000,0),(7.4,77000,0),(2.7,56000,0),(0.7,48000,0),(1.2,42000,0),(0.2,32000,1),(4.7,56000,1),(2.8,44000,1),(7.6,78000,0),(1.1,63000,0),(8,79000,1),(2.7,56000,0),(6,52000,1),(4.6,56000,0),(2.5,51000,0),(5.7,71000,0),(2.9,65000,0),(1.1,33000,1),(3,62000,0),(4,71000,0),(2.4,61000,0),(7.5,75000,0),(9.7,81000,1),(3.2,62000,0),(7.9,88000,0),(4.7,44000,1),(2.5,55000,0),(1.6,41000,0),(6.7,64000,1),(6.9,66000,1),(7.9,78000,1),(8.1,102000,0),(5.3,48000,1),(8.5,66000,1),(0.2,56000,0),(6,69000,0),(7.5,77000,0),(8,86000,0),(4.4,68000,0),(4.9,75000,0),(1.5,60000,0),(2.2,50000,0),(3.4,49000,1),(4.2,70000,0),(7.7,98000,0),(8.2,85000,0),(5.4,88000,0),(0.1,46000,0),(1.5,37000,0),(6.3,86000,0),(3.7,57000,0),(8.4,85000,0),(2,42000,0),(5.8,69000,1),(2.7,64000,0),(3.1,63000,0),(1.9,48000,0),(10,72000,1),(0.2,45000,0),(8.6,95000,0),(1.5,64000,0),(9.8,95000,0),(5.3,65000,0),(7.5,80000,0),(9.9,91000,0),(9.7,50000,1),(2.8,68000,0),(3.6,58000,0),(3.9,74000,0),(4.4,76000,0),(2.5,49000,0),(7.2,81000,0),(5.2,60000,1),(2.4,62000,0),(8.9,94000,0),(2.4,63000,0),(6.8,69000,1),(6.5,77000,0),(7,86000,0),(9.4,94000,0),(7.8,72000,1),(0.2,53000,0),(10,97000,0),(5.5,65000,0),(7.7,71000,1),(8.1,66000,1),(9.8,91000,0),(8,84000,0),(2.7,55000,0),(2.8,62000,0),(9.4,79000,0),(2.5,57000,0),(7.4,70000,1),(2.1,47000,0),(5.3,62000,1),(6.3,79000,0),(6.8,58000,1),(5.7,80000,0),(2.2,61000,0),(4.8,62000,0),(3.7,64000,0),(4.1,85000,0),(2.3,51000,0),(3.5,58000,0),(0.9,43000,0),(0.9,54000,0),(4.5,74000,0),(6.5,55000,1),(4.1,41000,1),(7.1,73000,0),(1.1,66000,0),(9.1,81000,1),(8,69000,1),(7.3,72000,1),(3.3,50000,0),(3.9,58000,0),(2.6,49000,0),(1.6,78000,0),(0.7,56000,0),(2.1,36000,1),(7.5,90000,0),(4.8,59000,1),(8.9,95000,0),(6.2,72000,0),(6.3,63000,0),(9.1,100000,0),(7.3,61000,1),(5.6,74000,0),(0.5,66000,0),(1.1,59000,0),(5.1,61000,0),(6.2,70000,0),(6.6,56000,1),(6.3,76000,0),(6.5,78000,0),(5.1,59000,0),(9.5,74000,1),(4.5,64000,0),(2,54000,0),(1,52000,0),(4,69000,0),(6.5,76000,0),(3,60000,0),(4.5,63000,0),(7.8,70000,0),(3.9,60000,1),(0.8,51000,0),(4.2,78000,0),(1.1,54000,0),(6.2,60000,0),(2.9,59000,0),(2.1,52000,0),(8.2,87000,0),(4.8,73000,0),(2.2,42000,1),(9.1,98000,0),(6.5,84000,0),(6.9,73000,0),(5.1,72000,0),(9.1,69000,1),(9.8,79000,1),]\n",
    "data = [list(row) for row in tuples]\n",
    "\n",
    "xs = [[1.0] + row[:2] for row in data]  # [1, experience, salary]. beta = [beta0, beta1, beta2]\n",
    "ys = [row[2] for row in data]           # paid_account \n",
    "\n",
    "print(xs)\n"
   ]
  },
  {
   "cell_type": "markdown",
   "metadata": {
    "collapsed": true,
    "jupyter": {
     "outputs_hidden": true
    }
   },
   "source": [
    "### Logistic function\n",
    "We will use this to fit the model: yi=f(xiβ)+εi"
   ]
  },
  {
   "cell_type": "code",
   "execution_count": 85,
   "metadata": {},
   "outputs": [],
   "source": [
    "from matplotlib import pyplot as plt\n",
    "\n",
    "def logistic(x: float) -> float:\n",
    "    return 1.0 / (1 + math.exp(-x))\n",
    "\n",
    "def logistic_prime(x: float) -> float:\n",
    "    y = logistic(x)\n",
    "    return y * (1 - y)"
   ]
  },
  {
   "cell_type": "markdown",
   "metadata": {},
   "source": [
    "### Gradient Decent for minimizing\n",
    "Keep in mind: logL(β∣∣xi,yi)=yi logf(xiβ)+(1−yi) log(1−f(xiβ)), gradient descent minimizes things, we’ll actually work with the negative log likelihood, since maximizing the likelihood is the same as minimizing its negative:"
   ]
  },
  {
   "cell_type": "code",
   "execution_count": 86,
   "metadata": {},
   "outputs": [],
   "source": [
    "import math\n",
    "from linear_algebra import Vector, dot\n",
    "\n",
    "def _negative_log_likelihood(x: Vector, y: float, beta: Vector) -> float:\n",
    "    \"\"\"The negative log likelihood for one data point\"\"\"\n",
    "    if y == 1:\n",
    "        return -math.log(logistic(dot(x, beta)))\n",
    "    else:\n",
    "        return -math.log(1 - logistic(dot(x, beta)))\n",
    "\n",
    "from typing import List\n",
    "\n",
    "def negative_log_likelihood(xs: List[Vector],\n",
    "                            ys: List[float],\n",
    "                            beta: Vector) -> float:\n",
    "    return sum(_negative_log_likelihood(x, y, beta)\n",
    "               for x, y in zip(xs, ys))"
   ]
  },
  {
   "cell_type": "markdown",
   "metadata": {},
   "source": [
    "### A little bit calculus\n",
    "A little bit of calculus gives us the gradient"
   ]
  },
  {
   "cell_type": "code",
   "execution_count": 87,
   "metadata": {},
   "outputs": [],
   "source": [
    "from linear_algebra import vector_sum\n",
    "\n",
    "def _negative_log_partial_j(x: Vector, y: float, beta: Vector, j: int) -> float:\n",
    "    \"\"\"\n",
    "    The j-th partial derivative for one data pont\n",
    "    here i is the index of the data point\n",
    "    \"\"\"\n",
    "    return -(y - logistic(dot(x, beta))) * x[j]\n",
    "\n",
    "def _negative_log_gradient(x: Vector, y: float, beta: Vector) -> Vector:\n",
    "    \"\"\"\n",
    "    The gradient for one data point\n",
    "    \"\"\"\n",
    "    return [_negative_log_partial_j(x, y, beta, j)\n",
    "            for j in range(len(beta))]\n",
    "\n",
    "def negative_log_gradient(xs: List[Vector],\n",
    "                          ys: List[float],\n",
    "                          beta: Vector) -> Vector:\n",
    "    return vector_sum([_negative_log_gradient(x, y, beta)\n",
    "                       for x, y in zip(xs, ys)])\n"
   ]
  },
  {
   "cell_type": "markdown",
   "metadata": {},
   "source": [
    "### Apply the model\n",
    "Now we already have implemented all functions for logistic regression, let's try\n"
   ]
  },
  {
   "cell_type": "code",
   "execution_count": 88,
   "metadata": {},
   "outputs": [
    {
     "name": "stderr",
     "output_type": "stream",
     "text": [
      "loss: 39.963 beta: [-2.023903247625139, 4.693047853942648, -4.469811321910746]: 100%|█| 5000/5000 [00:07<00:00, 702.16i"
     ]
    },
    {
     "name": "stdout",
     "output_type": "stream",
     "text": [
      "[-2.023903247625139, 4.693047853942648, -4.469811321910746]\n"
     ]
    },
    {
     "name": "stderr",
     "output_type": "stream",
     "text": [
      "\n"
     ]
    }
   ],
   "source": [
    "from machine_learning import train_test_split\n",
    "import random\n",
    "import tqdm\n",
    "\n",
    "\n",
    "from linear_algebra import vector_mean\n",
    "from gradient_descent import gradient_step\n",
    "from statistic import standard_deviation\n",
    "from typing import Tuple\n",
    "\n",
    "def scale(data: List[Vector]) -> Tuple[Vector, Vector]:\n",
    "    \"\"\"returns the means and standard deviations for each position\"\"\"\n",
    "    dim = len(data[0])\n",
    "\n",
    "    means = vector_mean(data)\n",
    "    stdevs = [standard_deviation([vector[i] for vector in data])\n",
    "              for i in range(dim)]\n",
    "\n",
    "    return means, stdevs\n",
    "\n",
    "def rescale(data: List[Vector]) -> List[Vector]:\n",
    "    \"\"\"\n",
    "    Rescales the input data so that each position has\n",
    "    mean 0 and standard deviation 1. (Leaves a position\n",
    "    as is if its standard deviation is 0.)\n",
    "    \"\"\"\n",
    "    dim = len(data[0])\n",
    "    means, stdevs = scale(data)\n",
    "\n",
    "    # Make a copy of each vector\n",
    "    rescaled = [v[:] for v in data]\n",
    "\n",
    "    for v in rescaled:\n",
    "        for i in range(dim):\n",
    "            if stdevs[i] > 0:\n",
    "                v[i] = (v[i] - means[i]) / stdevs[i]\n",
    "\n",
    "    return rescaled\n",
    "\n",
    "random.seed(0)\n",
    "x_train, x_test, y_train, y_test = train_test_split(rescale(xs), ys, 0.33)\n",
    "\n",
    "learning_rate = 0.01\n",
    "\n",
    "# pick a random starting point\n",
    "beta = [random.random() for _ in range(3)]\n",
    "\n",
    "with tqdm.trange(5000) as t:\n",
    "    for epoch in t:\n",
    "        gradient = negative_log_gradient(x_train, y_train, beta)\n",
    "        beta = gradient_step(beta, gradient, -learning_rate)\n",
    "        loss = negative_log_likelihood(x_train, y_train, beta)\n",
    "        t.set_description(f\"loss: {loss:.3f} beta: {beta}\")\n",
    "\n",
    "print(beta)"
   ]
  },
  {
   "cell_type": "code",
   "execution_count": 23,
   "metadata": {},
   "outputs": [],
   "source": [
    "#y = f( -2.0239032476251424 + 4.693047853942649 * experience + salary * -4.469811321910748 )"
   ]
  },
  {
   "cell_type": "code",
   "execution_count": 89,
   "metadata": {},
   "outputs": [],
   "source": [
    "# These are coefficients for the rescaled data, but we can transform them back to the original data as well:\n",
    "\n",
    "means, stdevs = scale(xs)\n",
    "beta_unscaled = [(beta[0]\n",
    "                  - beta[1] * means[1] / stdevs[1]\n",
    "                  - beta[2] * means[2] / stdevs[2]),\n",
    "                 beta[1] / stdevs[1],\n",
    "                 beta[2] / stdevs[2]]\n",
    "# [8.9, 1.6, -0.000288]"
   ]
  },
  {
   "cell_type": "markdown",
   "metadata": {},
   "source": [
    "### Goodness of fit\n",
    "Now let's check the performance on the test dataset, still remember how to evaluate the performance?"
   ]
  },
  {
   "cell_type": "code",
   "execution_count": 90,
   "metadata": {},
   "outputs": [
    {
     "name": "stdout",
     "output_type": "stream",
     "text": [
      "0.75\n",
      "0.8\n"
     ]
    }
   ],
   "source": [
    "true_positives = false_positives = true_negatives = false_negatives = 0\n",
    "\n",
    "for x_i, y_i in zip(x_test, y_test):\n",
    "    prediction = logistic(dot(beta, x_i))\n",
    "\n",
    "    if y_i == 1 and prediction >= 0.5:  # TP: paid and we predict paid\n",
    "        true_positives += 1\n",
    "    elif y_i == 1:                      # FN: paid and we predict unpaid\n",
    "        false_negatives += 1\n",
    "    elif prediction >= 0.5:             # FP: unpaid and we predict paid\n",
    "        false_positives += 1\n",
    "    else:                               # TN: unpaid and we predict unpaid\n",
    "        true_negatives += 1\n",
    "\n",
    "precision = true_positives / (true_positives + false_positives)\n",
    "recall = true_positives / (true_positives + false_negatives)\n",
    "\n",
    "print(precision)\n",
    "print(recall)"
   ]
  },
  {
   "cell_type": "code",
   "execution_count": 91,
   "metadata": {},
   "outputs": [
    {
     "data": {
      "image/png": "[encoded data removed]",
      "text/plain": [
       "<Figure size 640x480 with 1 Axes>"
      ]
     },
     "metadata": {},
     "output_type": "display_data"
    }
   ],
   "source": [
    "# we could plot them\n",
    "predictions = [logistic(dot(beta, x_i)) for x_i in x_test]\n",
    "plt.scatter(predictions, y_test, marker='+')\n",
    "plt.xlabel(\"predicted probability\")\n",
    "plt.ylabel(\"actual outcome\")\n",
    "plt.title(\"Logistic Regression Predicted vs. Actual\")\n",
    "plt.show()"
   ]
  },
  {
   "cell_type": "markdown",
   "metadata": {},
   "source": [
    "### Homework (PAIR)\n",
    "Please check slides and submit your homework on Sakai."
   ]
  },
  {
   "cell_type": "code",
   "execution_count": 92,
   "metadata": {},
   "outputs": [],
   "source": [
    "# let's first download it\n",
    "import requests\n",
    "\n",
    "data = requests.get(\n",
    "  \"https://archive.ics.uci.edu/ml/machine-learning-databases/iris/iris.data\"\n",
    ")\n",
    "\n",
    "with open('iris.dat', 'w') as f:\n",
    "    f.write(data.text)\n",
    "\n",
    "# The data is comma-separated, with fields: sepal_length, sepal_width, petal_length, petal_width, class\n",
    "# For example, the first line looks: 5.1,3.5,1.4,0.2,Iris-setosa"
   ]
  },
  {
   "cell_type": "code",
   "execution_count": 93,
   "metadata": {},
   "outputs": [],
   "source": [
    "with open('iris.dat', 'r') as f:\n",
    "    content = f.read()"
   ]
  },
  {
   "cell_type": "code",
   "execution_count": 94,
   "metadata": {},
   "outputs": [],
   "source": [
    "content = content.replace('Iris-setosa', '0')\n",
    "content = content.replace('Iris-versicolor', '1')\n",
    "content = content.replace('Iris-virginica', '1')"
   ]
  },
  {
   "cell_type": "code",
   "execution_count": 95,
   "metadata": {},
   "outputs": [],
   "source": [
    "with open('iris.dat', 'w') as f:\n",
    "    f.write(content)"
   ]
  },
  {
   "cell_type": "code",
   "execution_count": 96,
   "metadata": {},
   "outputs": [
    {
     "name": "stdout",
     "output_type": "stream",
     "text": [
      "5.1,3.5,1.4,0.2,0\n",
      "\n",
      "4.9,3.0,1.4,0.2,0\n",
      "\n",
      "4.7,3.2,1.3,0.2,0\n",
      "\n",
      "4.6,3.1,1.5,0.2,0\n",
      "\n",
      "5.0,3.6,1.4,0.2,0\n",
      "\n",
      "5.4,3.9,1.7,0.4,0\n",
      "\n",
      "4.6,3.4,1.4,0.3,0\n",
      "\n",
      "5.0,3.4,1.5,0.2,0\n",
      "\n",
      "4.4,2.9,1.4,0.2,0\n",
      "\n",
      "4.9,3.1,1.5,0.1,0\n",
      "\n",
      "5.4,3.7,1.5,0.2,0\n",
      "\n",
      "4.8,3.4,1.6,0.2,0\n",
      "\n",
      "4.8,3.0,1.4,0.1,0\n",
      "\n",
      "4.3,3.0,1.1,0.1,0\n",
      "\n",
      "5.8,4.0,1.2,0.2,0\n",
      "\n",
      "5.7,4.4,1.5,0.4,0\n",
      "\n",
      "5.4,3.9,1.3,0.4,0\n",
      "\n",
      "5.1,3.5,1.4,0.3,0\n",
      "\n",
      "5.7,3.8,1.7,0.3,0\n",
      "\n",
      "5.1,3.8,1.5,0.3,0\n",
      "\n",
      "5.4,3.4,1.7,0.2,0\n",
      "\n",
      "5.1,3.7,1.5,0.4,0\n",
      "\n",
      "4.6,3.6,1.0,0.2,0\n",
      "\n",
      "5.1,3.3,1.7,0.5,0\n",
      "\n",
      "4.8,3.4,1.9,0.2,0\n",
      "\n",
      "5.0,3.0,1.6,0.2,0\n",
      "\n",
      "5.0,3.4,1.6,0.4,0\n",
      "\n",
      "5.2,3.5,1.5,0.2,0\n",
      "\n",
      "5.2,3.4,1.4,0.2,0\n",
      "\n",
      "4.7,3.2,1.6,0.2,0\n",
      "\n",
      "4.8,3.1,1.6,0.2,0\n",
      "\n",
      "5.4,3.4,1.5,0.4,0\n",
      "\n",
      "5.2,4.1,1.5,0.1,0\n",
      "\n",
      "5.5,4.2,1.4,0.2,0\n",
      "\n",
      "4.9,3.1,1.5,0.1,0\n",
      "\n",
      "5.0,3.2,1.2,0.2,0\n",
      "\n",
      "5.5,3.5,1.3,0.2,0\n",
      "\n",
      "4.9,3.1,1.5,0.1,0\n",
      "\n",
      "4.4,3.0,1.3,0.2,0\n",
      "\n",
      "5.1,3.4,1.5,0.2,0\n",
      "\n",
      "5.0,3.5,1.3,0.3,0\n",
      "\n",
      "4.5,2.3,1.3,0.3,0\n",
      "\n",
      "4.4,3.2,1.3,0.2,0\n",
      "\n",
      "5.0,3.5,1.6,0.6,0\n",
      "\n",
      "5.1,3.8,1.9,0.4,0\n",
      "\n",
      "4.8,3.0,1.4,0.3,0\n",
      "\n",
      "5.1,3.8,1.6,0.2,0\n",
      "\n",
      "4.6,3.2,1.4,0.2,0\n",
      "\n",
      "5.3,3.7,1.5,0.2,0\n",
      "\n",
      "5.0,3.3,1.4,0.2,0\n",
      "\n",
      "7.0,3.2,4.7,1.4,1\n",
      "\n",
      "6.4,3.2,4.5,1.5,1\n",
      "\n",
      "6.9,3.1,4.9,1.5,1\n",
      "\n",
      "5.5,2.3,4.0,1.3,1\n",
      "\n",
      "6.5,2.8,4.6,1.5,1\n",
      "\n",
      "5.7,2.8,4.5,1.3,1\n",
      "\n",
      "6.3,3.3,4.7,1.6,1\n",
      "\n",
      "4.9,2.4,3.3,1.0,1\n",
      "\n",
      "6.6,2.9,4.6,1.3,1\n",
      "\n",
      "5.2,2.7,3.9,1.4,1\n",
      "\n",
      "5.0,2.0,3.5,1.0,1\n",
      "\n",
      "5.9,3.0,4.2,1.5,1\n",
      "\n",
      "6.0,2.2,4.0,1.0,1\n",
      "\n",
      "6.1,2.9,4.7,1.4,1\n",
      "\n",
      "5.6,2.9,3.6,1.3,1\n",
      "\n",
      "6.7,3.1,4.4,1.4,1\n",
      "\n",
      "5.6,3.0,4.5,1.5,1\n",
      "\n",
      "5.8,2.7,4.1,1.0,1\n",
      "\n",
      "6.2,2.2,4.5,1.5,1\n",
      "\n",
      "5.6,2.5,3.9,1.1,1\n",
      "\n",
      "5.9,3.2,4.8,1.8,1\n",
      "\n",
      "6.1,2.8,4.0,1.3,1\n",
      "\n",
      "6.3,2.5,4.9,1.5,1\n",
      "\n",
      "6.1,2.8,4.7,1.2,1\n",
      "\n",
      "6.4,2.9,4.3,1.3,1\n",
      "\n",
      "6.6,3.0,4.4,1.4,1\n",
      "\n",
      "6.8,2.8,4.8,1.4,1\n",
      "\n",
      "6.7,3.0,5.0,1.7,1\n",
      "\n",
      "6.0,2.9,4.5,1.5,1\n",
      "\n",
      "5.7,2.6,3.5,1.0,1\n",
      "\n",
      "5.5,2.4,3.8,1.1,1\n",
      "\n",
      "5.5,2.4,3.7,1.0,1\n",
      "\n",
      "5.8,2.7,3.9,1.2,1\n",
      "\n",
      "6.0,2.7,5.1,1.6,1\n",
      "\n",
      "5.4,3.0,4.5,1.5,1\n",
      "\n",
      "6.0,3.4,4.5,1.6,1\n",
      "\n",
      "6.7,3.1,4.7,1.5,1\n",
      "\n",
      "6.3,2.3,4.4,1.3,1\n",
      "\n",
      "5.6,3.0,4.1,1.3,1\n",
      "\n",
      "5.5,2.5,4.0,1.3,1\n",
      "\n",
      "5.5,2.6,4.4,1.2,1\n",
      "\n",
      "6.1,3.0,4.6,1.4,1\n",
      "\n",
      "5.8,2.6,4.0,1.2,1\n",
      "\n",
      "5.0,2.3,3.3,1.0,1\n",
      "\n",
      "5.6,2.7,4.2,1.3,1\n",
      "\n",
      "5.7,3.0,4.2,1.2,1\n",
      "\n",
      "5.7,2.9,4.2,1.3,1\n",
      "\n",
      "6.2,2.9,4.3,1.3,1\n",
      "\n",
      "5.1,2.5,3.0,1.1,1\n",
      "\n",
      "5.7,2.8,4.1,1.3,1\n",
      "\n",
      "6.3,3.3,6.0,2.5,1\n",
      "\n",
      "5.8,2.7,5.1,1.9,1\n",
      "\n",
      "7.1,3.0,5.9,2.1,1\n",
      "\n",
      "6.3,2.9,5.6,1.8,1\n",
      "\n",
      "6.5,3.0,5.8,2.2,1\n",
      "\n",
      "7.6,3.0,6.6,2.1,1\n",
      "\n",
      "4.9,2.5,4.5,1.7,1\n",
      "\n",
      "7.3,2.9,6.3,1.8,1\n",
      "\n",
      "6.7,2.5,5.8,1.8,1\n",
      "\n",
      "7.2,3.6,6.1,2.5,1\n",
      "\n",
      "6.5,3.2,5.1,2.0,1\n",
      "\n",
      "6.4,2.7,5.3,1.9,1\n",
      "\n",
      "6.8,3.0,5.5,2.1,1\n",
      "\n",
      "5.7,2.5,5.0,2.0,1\n",
      "\n",
      "5.8,2.8,5.1,2.4,1\n",
      "\n",
      "6.4,3.2,5.3,2.3,1\n",
      "\n",
      "6.5,3.0,5.5,1.8,1\n",
      "\n",
      "7.7,3.8,6.7,2.2,1\n",
      "\n",
      "7.7,2.6,6.9,2.3,1\n",
      "\n",
      "6.0,2.2,5.0,1.5,1\n",
      "\n",
      "6.9,3.2,5.7,2.3,1\n",
      "\n",
      "5.6,2.8,4.9,2.0,1\n",
      "\n",
      "7.7,2.8,6.7,2.0,1\n",
      "\n",
      "6.3,2.7,4.9,1.8,1\n",
      "\n",
      "6.7,3.3,5.7,2.1,1\n",
      "\n",
      "7.2,3.2,6.0,1.8,1\n",
      "\n",
      "6.2,2.8,4.8,1.8,1\n",
      "\n",
      "6.1,3.0,4.9,1.8,1\n",
      "\n",
      "6.4,2.8,5.6,2.1,1\n",
      "\n",
      "7.2,3.0,5.8,1.6,1\n",
      "\n",
      "7.4,2.8,6.1,1.9,1\n",
      "\n",
      "7.9,3.8,6.4,2.0,1\n",
      "\n",
      "6.4,2.8,5.6,2.2,1\n",
      "\n",
      "6.3,2.8,5.1,1.5,1\n",
      "\n",
      "6.1,2.6,5.6,1.4,1\n",
      "\n",
      "7.7,3.0,6.1,2.3,1\n",
      "\n",
      "6.3,3.4,5.6,2.4,1\n",
      "\n",
      "6.4,3.1,5.5,1.8,1\n",
      "\n",
      "6.0,3.0,4.8,1.8,1\n",
      "\n",
      "6.9,3.1,5.4,2.1,1\n",
      "\n",
      "6.7,3.1,5.6,2.4,1\n",
      "\n",
      "6.9,3.1,5.1,2.3,1\n",
      "\n",
      "5.8,2.7,5.1,1.9,1\n",
      "\n",
      "6.8,3.2,5.9,2.3,1\n",
      "\n",
      "6.7,3.3,5.7,2.5,1\n",
      "\n",
      "6.7,3.0,5.2,2.3,1\n",
      "\n",
      "6.3,2.5,5.0,1.9,1\n",
      "\n",
      "6.5,3.0,5.2,2.0,1\n",
      "\n",
      "6.2,3.4,5.4,2.3,1\n",
      "\n",
      "5.9,3.0,5.1,1.8,1\n",
      "\n",
      "\n",
      "\n"
     ]
    }
   ],
   "source": [
    "with open('iris.dat', 'r') as fh:\n",
    "    for line in fh:\n",
    "        print(line)"
   ]
  },
  {
   "cell_type": "code",
   "execution_count": 97,
   "metadata": {},
   "outputs": [
    {
     "name": "stdout",
     "output_type": "stream",
     "text": [
      "[0, 0, 0, 0, 0, 0, 0, 0, 0, 0, 0, 0, 0, 0, 0, 0, 0, 0, 0, 0, 0, 0, 0, 0, 0, 0, 0, 0, 0, 0, 0, 0, 0, 0, 0, 0, 0, 0, 0, 0, 0, 0, 0, 0, 0, 0, 0, 0, 0, 0, 1, 1, 1, 1, 1, 1, 1, 1, 1, 1, 1, 1, 1, 1, 1, 1, 1, 1, 1, 1, 1, 1, 1, 1, 1, 1, 1, 1, 1, 1, 1, 1, 1, 1, 1, 1, 1, 1, 1, 1, 1, 1, 1, 1, 1, 1, 1, 1, 1, 1, 1, 1, 1, 1, 1, 1, 1, 1, 1, 1, 1, 1, 1, 1, 1, 1, 1, 1, 1, 1, 1, 1, 1, 1, 1, 1, 1, 1, 1, 1, 1, 1, 1, 1, 1, 1, 1, 1, 1, 1, 1, 1, 1, 1, 1, 1, 1, 1, 1, 1]\n"
     ]
    }
   ],
   "source": [
    "with open('iris.dat', 'r') as f:\n",
    "    content = f.readlines()\n",
    "\n",
    "xs = []\n",
    "ys = []\n",
    "\n",
    "for line in content:\n",
    "    parts = line.strip().split(',')  # Split the line by comma\n",
    "    if parts[-1] == '':\n",
    "        break\n",
    "    xs.append([1.0] + [float(part) for part in parts[:-3]])  # Convert the first four values to float\n",
    "    ys.append(int(parts[-1]))  # Convert the last value to int\n",
    "\n",
    "print(ys)"
   ]
  },
  {
   "cell_type": "code",
   "execution_count": 98,
   "metadata": {},
   "outputs": [
    {
     "name": "stderr",
     "output_type": "stream",
     "text": [
      "loss: 0.641 beta: [6.830914602658199, 11.489937218348034, -6.064465464605459]: 100%|█| 5000/5000 [00:06<00:00, 799.43it"
     ]
    },
    {
     "name": "stdout",
     "output_type": "stream",
     "text": [
      "[6.830914602658199, 11.489937218348034, -6.064465464605459]\n"
     ]
    },
    {
     "name": "stderr",
     "output_type": "stream",
     "text": [
      "\n"
     ]
    }
   ],
   "source": [
    "random.seed(0)\n",
    "x_train, x_test, y_train, y_test = train_test_split(rescale(xs), ys, 0.33)\n",
    "\n",
    "def _negative_log_likelihood(x: Vector, y: float, beta: Vector) -> float:\n",
    "    \"\"\"The negative log likelihood for one data point\"\"\"\n",
    "    if y == 1:\n",
    "        return -math.log(logistic(dot(x, beta)))\n",
    "    else:\n",
    "        return -math.log(1 - logistic(dot(x, beta)))\n",
    "\n",
    "learning_rate = 0.01\n",
    "\n",
    "# pick a random starting point\n",
    "beta = [random.random() for _ in range(3)]\n",
    "\n",
    "with tqdm.trange(5000) as t:\n",
    "    for epoch in t:\n",
    "        gradient = negative_log_gradient(x_train, y_train, beta)\n",
    "        beta = gradient_step(beta, gradient, -learning_rate)\n",
    "        loss = negative_log_likelihood(x_train, y_train, beta)\n",
    "        t.set_description(f\"loss: {loss:.3f} beta: {beta}\")\n",
    "            \n",
    "\n",
    "print(beta)"
   ]
  }
 ],
 "metadata": {
  "kernelspec": {
   "display_name": "Python 3 (ipykernel)",
   "language": "python",
   "name": "python3"
  },
  "language_info": {
   "codemirror_mode": {
    "name": "ipython",
    "version": 3
   },
   "file_extension": ".py",
   "mimetype": "text/x-python",
   "name": "python",
   "nbconvert_exporter": "python",
   "pygments_lexer": "ipython3",
   "version": "3.12.0"
  }
 },
 "nbformat": 4,
 "nbformat_minor": 4
}
